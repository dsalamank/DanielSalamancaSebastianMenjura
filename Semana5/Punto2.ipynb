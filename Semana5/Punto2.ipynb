{
 "cells": [
  {
   "cell_type": "code",
   "execution_count": 60,
   "metadata": {},
   "outputs": [
    {
     "name": "stdout",
     "output_type": "stream",
     "text": [
      "Adams-Barshforth de tres puntos\n",
      "23*h/12 -4*h/3 5*h/12\n",
      "Adams-Barshforth de cuatro puntos\n",
      "55*h/24 -59*h/24 37*h/24 -3*h/8\n"
     ]
    }
   ],
   "source": [
    "import numpy as np\n",
    "import sympy as sym\n",
    "\n",
    "t = sym.Symbol(\"t\", real = True)\n",
    "h = sym.Symbol(\"h\", real = True)\n",
    "\n",
    "F1 = (t-(-h))*(t-(-2*h))/(2*h**2)\n",
    "F2 = -(t-(0))*(t-(-2*h))/(h**2)\n",
    "F3 = (t-(-h))*(t-(0))/(2*h**2)\n",
    "I1 = sym.integrate(F1, (t,0,h))\n",
    "I2 = sym.integrate(F2, (t,0,h))\n",
    "I3 = sym.integrate(F3, (t,0,h))\n",
    "print(\"Adams-Barshforth de tres puntos\")\n",
    "print(I1,I2,I3)\n",
    "F4 = F1*((t-(-3*h))/(3*h))\n",
    "F5 = F2* ((t-(-3*h))/(2*h))\n",
    "F6 = F3*((t-(-3*h))/(h))\n",
    "F7 = -(t-(-2*h))*(t-(-h))*(t-(0))/(6*h**3) \n",
    "\n",
    "I4 = sym.integrate(F4, (t,0,h))\n",
    "I5 = sym.integrate(F5, (t,0,h))\n",
    "I6 = sym.integrate(F6, (t,0,h))\n",
    "I7 = sym.integrate(F7, (t,0,h))\n",
    "print(\"Adams-Barshforth de cuatro puntos\")\n",
    "print(I4,I5,I6,I7)"
   ]
  },
  {
   "cell_type": "code",
   "execution_count": 65,
   "metadata": {},
   "outputs": [
    {
     "name": "stdout",
     "output_type": "stream",
     "text": [
      "Adams-Moulton de tres puntos\n",
      "5*h/12 2*h/3 -h/12\n",
      "Adams-Moulton de cuatro puntos\n",
      "3*h/8 19*h/24 -5*h/24 h/24\n"
     ]
    }
   ],
   "source": [
    "F_1 = (t-(0))*(t-(-h))/(2*h**2)\n",
    "F_2 = -(t-(h))*(t-(-h))/(h**2)\n",
    "F_3 = (t-(0))*(t-(h))/(2*h**2)\n",
    "I_1 = sym.integrate(F_1, (t,0,h))\n",
    "I_2 = sym.integrate(F_2, (t,0,h))\n",
    "I_3 = sym.integrate(F_3, (t,0,h))\n",
    "print(\"Adams-Moulton de tres puntos\")\n",
    "print(I_1,I_2,I_3)\n",
    "\n",
    "\n",
    "F_4 = F_1*((t-(-2*h))/(3*h))\n",
    "F_5 = F_2* ((t-(-2*h))/(2*h))\n",
    "F_6 = F_3*((t-(-2*h))/(h))\n",
    "F_7 = -(t-(-h))*(t-(0))*(t-(h))/(6*h**3) \n",
    "\n",
    "I_4 = sym.integrate(F_4, (t,0,h))\n",
    "I_5 = sym.integrate(F_5, (t,0,h))\n",
    "I_6 = sym.integrate(F_6, (t,0,h))\n",
    "I_7 = sym.integrate(F_7, (t,0,h))\n",
    "\n",
    "print(\"Adams-Moulton de cuatro puntos\")\n",
    "print(I_4,I_5,I_6,I_7)"
   ]
  },
  {
   "cell_type": "code",
   "execution_count": null,
   "metadata": {},
   "outputs": [],
   "source": []
  },
  {
   "cell_type": "code",
   "execution_count": null,
   "metadata": {},
   "outputs": [],
   "source": []
  }
 ],
 "metadata": {
  "kernelspec": {
   "display_name": "Python 3",
   "language": "python",
   "name": "python3"
  },
  "language_info": {
   "codemirror_mode": {
    "name": "ipython",
    "version": 3
   },
   "file_extension": ".py",
   "mimetype": "text/x-python",
   "name": "python",
   "nbconvert_exporter": "python",
   "pygments_lexer": "ipython3",
   "version": "3.6.15"
  }
 },
 "nbformat": 4,
 "nbformat_minor": 2
}
