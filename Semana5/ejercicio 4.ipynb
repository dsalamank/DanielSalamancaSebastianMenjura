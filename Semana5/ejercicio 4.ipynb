{
 "cells": [
  {
   "cell_type": "markdown",
   "metadata": {},
   "source": [
    "## 4-order simplectic integrator (Yoshida)"
   ]
  },
  {
   "cell_type": "code",
   "execution_count": 32,
   "metadata": {},
   "outputs": [],
   "source": [
    "import numpy as np\n",
    "import matplotlib.pyplot as plt\n",
    "import math\n",
    "from tqdm import tqdm\n"
   ]
  },
  {
   "cell_type": "code",
   "execution_count": 33,
   "metadata": {},
   "outputs": [],
   "source": [
    "#definamos nuestro intervalo de tiempo y el paso.\n",
    "iteraciones=100\n",
    "t_=np.linspace(0.10,iteraciones)\n",
    "h_=(10/iteraciones)\n",
    "\n",
    "#definamos la funcion del oscilador armonico\n",
    "f_derivada=lambda x:-x\n"
   ]
  },
  {
   "cell_type": "markdown",
   "metadata": {},
   "source": [
    "## vamos a definir un integrador de orden 4. Es por ello que trabajaremos con un Runge-Kutta"
   ]
  },
  {
   "cell_type": "code",
   "execution_count": 34,
   "metadata": {},
   "outputs": [],
   "source": [
    "#definimos las ecuaciones diferenciales del oscilaor armonico\n",
    "s_derivada=lambda x:-x\n",
    "p_derivada=lambda v: v\n",
    "\n",
    "\n",
    "def rugen_kutta4(t,h):\n",
    "    \n",
    "    x_=np.zeros(len(t))\n",
    "    v_=np.zeros(len(t))\n",
    "    #constantes de inicialización\n",
    "    x_[0]=0\n",
    "    v_[0]=0\n",
    "    \n",
    "    #definimos los k vectoriales \n",
    "    \n",
    "    K1_=np.zeros(2)\n",
    "    K2_=np.zeros(2)\n",
    "    K3_=np.zeros(2)\n",
    "    K4_=np.zeros(2)\n",
    "        \n",
    "   \n",
    "    for i in range(1, len(t)):\n",
    "\n",
    "        K1_[0] = h*p_derivada(v_[i-1])\n",
    "        K1_[1] = h*s_derivada(x_[i-1])\n",
    "        \n",
    "        K2_[0] = h*p_derivada(v_[i-1] + 0.5*K1_[1])\n",
    "        K2_[1] = h*s_derivada(x_[i-1] + 0.5*K1_[0])\n",
    "        \n",
    "        K3_[0] = h*p_derivada(v_[i-1] + 0.5*K2_[1])\n",
    "        K3_[1] = h*s_derivada(x_[i-1] + 0.5*K2_[0])\n",
    "        \n",
    "        K4_[0] = h*p_derivada(v_[i-1]+K3_[1])\n",
    "        K4_[1] = h*s_derivada(x_[i-1]+K3_[0])\n",
    "\n",
    "        \n",
    "        x_[i] = x_[i-1]+(K1_[0]+2*K2_[0]+2*K3_[0]+K4_[0])/6\n",
    "        v_[i] = v_[i-1]+(K1_[1]+2*K2_[1]+2*K3_[1]+K4_[1])/6\n",
    "\n",
    "    return x_, v_\n",
    "    "
   ]
  },
  {
   "cell_type": "code",
   "execution_count": 35,
   "metadata": {},
   "outputs": [],
   "source": [
    "x_positon,v_velocity=rugen_kutta4(t,h)"
   ]
  },
  {
   "cell_type": "markdown",
   "metadata": {},
   "source": [
    "## Ahora realizaremos el metodo de salto de rana para la resolucion de la ecuacion"
   ]
  },
  {
   "cell_type": "code",
   "execution_count": 64,
   "metadata": {},
   "outputs": [],
   "source": [
    "def salto_rana(t,h):\n",
    "    \n",
    "    \n",
    "    saltos=np.arange((-1/2)*h,10-(1/2)*h,h)\n",
    "    \n",
    "    x_=np.zeros(len(t))\n",
    "    v_=np.zeros(len(t))\n",
    "    \n",
    "    x_pos=[]\n",
    "    array_x=np.array(x_pos)\n",
    "    \n",
    "    v_vel=[]\n",
    "    array_v=np.array(v_vel)\n",
    "    \n",
    "    #constantes de inicialización\n",
    "    x_[0]=0\n",
    "    v_[0]=0- 0.5*h*s_derivada(x_[0])\n",
    "    \n",
    "    for i in range(1,len(t)):\n",
    "        \n",
    "        v_[i]=v_[i-1]+h*s_derivada(x_[i-1])\n",
    "        x_[i]=x_[i-1]+h*v_[i]\n",
    "    \n",
    "    interv=len(x_)-1\n",
    "    for j in range(interv):\n",
    "        \n",
    "        array_x=np.append(array_x,(x_[j]+x_[j+1])*0.5)\n",
    "        \n",
    "        \n",
    "    array_v=v_[j:]\n",
    "    \n",
    "    return array_x,array_v\n",
    "\n",
    "x_salto,v_salto=salto_rana(t_,h_)\n",
    "        \n",
    "    \n",
    "        \n",
    "    \n",
    "    \n",
    "    "
   ]
  },
  {
   "cell_type": "markdown",
   "metadata": {},
   "source": [
    "## Ahora conseguiremos las energias cinetica y potencial\n"
   ]
  },
  {
   "cell_type": "code",
   "execution_count": 65,
   "metadata": {},
   "outputs": [],
   "source": [
    "lista_potencial=[]\n",
    "lista_cinetica=[]\n",
    "lista_mecanica=[]\n",
    "\n",
    "lista_potencial_2=[]\n",
    "lista_cinetica_2=[]\n",
    "lista_mecanica_2=[]\n",
    "\n",
    "cinetica=0\n",
    "potencial=0\n",
    "mecanica=0\n",
    "\n",
    "cinetica_2=0\n",
    "potencial_2=0\n",
    "mecanica_2=0\n",
    "\n",
    "for i in range(len(x_positon)):\n",
    "    \n",
    "    potencial=(1/2)*x_positon[i]**2\n",
    "    cinetica=(1/2)*v_velocity[i]**2\n",
    "    mecanica=potencial+cinetica\n",
    "\n",
    "    lista_potencial.append(potencial)\n",
    "    lista_cinetica.append(cinetica)\n",
    "    lista_mecanica.append(mecanica)\n",
    "    \n",
    "for j in range(len(x_salto)):\n",
    "    \n",
    "    potencial_2=(1/2)*x_positon[i]**2\n",
    "    cinetica_2=(1/2)*v_velocity[i]**2\n",
    "    mecanica_2=potencial_2+cinetica_2\n",
    "\n",
    "    lista_potencial_2.append(potencial_2)\n",
    "    lista_cinetica_2.append(cinetica_2)\n",
    "    lista_mecanica_2.append(mecanica_2)\n",
    "    "
   ]
  },
  {
   "cell_type": "code",
   "execution_count": 67,
   "metadata": {},
   "outputs": [
    {
     "data": {
      "image/png": "[encoded data removed]",
      "text/plain": [
       "<Figure size 720x360 with 1 Axes>"
      ]
     },
     "metadata": {
      "needs_background": "light"
     },
     "output_type": "display_data"
    }
   ],
   "source": [
    "fig1 = plt.figure(figsize=(10,5))\n",
    "ax1 = fig1.add_subplot(1,1,1)\n",
    "\n",
    "ax1.plot(t_,lista_mecanica)\n",
    "ax1.plot(t_[:-1],lista_mecanica_2)\n",
    "\n",
    "plt.show()"
   ]
  },
  {
   "cell_type": "code",
   "execution_count": null,
   "metadata": {},
   "outputs": [],
   "source": []
  }
 ],
 "metadata": {
  "kernelspec": {
   "display_name": "Python 3",
   "language": "python",
   "name": "python3"
  },
  "language_info": {
   "codemirror_mode": {
    "name": "ipython",
    "version": 3
   },
   "file_extension": ".py",
   "mimetype": "text/x-python",
   "name": "python",
   "nbconvert_exporter": "python",
   "pygments_lexer": "ipython3",
   "version": "3.8.5"
  }
 },
 "nbformat": 4,
 "nbformat_minor": 4
}
