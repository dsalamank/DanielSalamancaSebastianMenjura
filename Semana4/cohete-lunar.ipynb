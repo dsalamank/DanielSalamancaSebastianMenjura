{
 "cells": [
  {
   "cell_type": "code",
   "execution_count": 27,
   "metadata": {},
   "outputs": [],
   "source": [
    "import matplotlib.pyplot as plt\n",
    "import numpy as np\n",
    "import matplotlib.animation as min\n",
    "import math"
   ]
  },
  {
   "cell_type": "code",
   "execution_count": 38,
   "metadata": {},
   "outputs": [],
   "source": [
    "#Primero definimos las constantes de nuestro sistema\n",
    "t = np.linspace(0,int(96400*2),1+int(96400*2))\n",
    "G=6.67*10**(-11)\n",
    "d_tierra_luna=3.844*10**8\n",
    "M_tierra=5.9736*10**24\n",
    "R_tierra=6.37*10**6\n",
    "M_luna=0.0735*10**24\n",
    "    \n",
    "w_lunar=2.66*10**-3\n",
    "    \n",
    "# Las siguientes constantes las defininimos segun y aparecen en la guia\n",
    "Δ_=(d_tierra_luna*M_tierra)/(math.pow(d_tierra_luna,3))\n",
    "μ_=M_luna/M_tierra"
   ]
  },
  {
   "cell_type": "markdown",
   "metadata": {},
   "source": [
    "## Crearemos la clase particula que definira nuestro sistema "
   ]
  },
  {
   "cell_type": "code",
   "execution_count": 49,
   "metadata": {},
   "outputs": [],
   "source": [
    "class Particle():\n",
    "    #inicializamos los atributos de la clase \n",
    "    \n",
    "    def __init__(self,ro,ϕ,p,l,masa,t):\n",
    "        \n",
    "        \n",
    "        self.r=ro\n",
    "        self.P=p\n",
    "        self.L=l\n",
    "        self.phi=ϕ\n",
    "        self.m=masa\n",
    "        \n",
    "        #inicializamos los vectores \n",
    "        \n",
    "        self.rVec=np.zeros(len(t))\n",
    "        self.ϕVec=np.zeros(len(t))\n",
    "        self.LVec=np.zeros(len(t))\n",
    "        self.PVec=np.zeros(len(t))\n",
    "    \n",
    "    \n",
    "    #setters\n",
    "    \n",
    "    def setR(self,r,ind):\n",
    "        self.rVec[ind]=r\n",
    "        \n",
    "    def setphi(self,ϕ,ind):\n",
    "        self.ϕVec[ind]=ϕ\n",
    "        \n",
    "    def setP(self,p,ind):\n",
    "        self.Pvec[ind]=p\n",
    "        \n",
    "    def setL(self,l,ind):\n",
    "        self.LVec[ind]=l\n",
    "        \n",
    "        \n",
    "    #definimos metodo inicialilzador\n",
    "    \n",
    "    def inicializador(self,dr,dp,dfhi,dl,ind):\n",
    "        \n",
    "        self.setR(ind,self.r)\n",
    "        self.setP(ind,self.p)\n",
    "        self.setphi(ind,self.phi)\n",
    "        self.setL(ind,self.L)\n",
    "    \n",
    "    #dado que ahora vamos a describir como evoluciona sistema (cohete). Aqui vamos a describir nuestro\n",
    "    #rugen-Kuta para describir el movimiento del mismo\n",
    "    def digi_evolucion(self,dr,dp,dphi,dl,ind):\n",
    "        \n",
    "        \n",
    "        if ind==1:\n",
    "            self.inicializador\n",
    "        \n",
    "        elif ind!=0:\n",
    "            \n",
    "            pasado_r=self.r\n",
    "            pasado_phi=self.phi\n",
    "            pasado_l=self.L\n",
    "            pasado_p=self.P\n",
    "            \n",
    "            #creamos los arrays que contendran nuestros coeficientes rugen-kuta (seran k1,k2,k3,k4 dado que el metodo es de orden 4)\n",
    "            \n",
    "            k_1=np.zeros(4)\n",
    "            k_2=np.zeros(4)\n",
    "            k_3=np.zeros(4)\n",
    "            k_4=np.zeros(4)\n",
    "            \n",
    "            \n",
    "            k_1[0]=dr(pasado_p)\n",
    "            k_1[1]=dphi(pasado_r,pasado_l)\n",
    "            k_1[2]=dp(pasado_r,pasado_phi,pasado_l,ind-1)\n",
    "            k_1[3]=dl(pasado_r,pasado_phi,ind-1)\n",
    "            \n",
    "            k_2[0]=dr(pasado_p+((1/2)*k_1[2]))\n",
    "            k_2[1]=dphi(pasado_r+((1/2)*k_1[0]),pasado_l+((1/2)*k_1[3]))\n",
    "            k_2[2]=dp(pasado_r+((1/2)*k_1[0]),pasado_phi+((1/2)*k_1[1]),pasado_l+((1/2)*k_1[3],ind-(1/2)))\n",
    "            k_2[3]=dl(pasado_r+((1/2)*k_1[0]),pasado_phi+((1/2)*k_1[1]),ind-(1/2))\n",
    "                \n",
    "                      \n",
    "            k_3[0]=dr(pasado_p+((1/2)*k_2[2]))\n",
    "            k_3[1]=dphi(pasado_r+((1/2)*k_2[0]),pasado_l+((1/2)*k_2[3]))\n",
    "            k_3[2]=dp(pasado_r+((1/2)*k_2[0]),pasado_phi+((1/2)*k_2[1]),pasado_l+((1/2)*k_2[3]),ind-(1/2))\n",
    "            k_3[3]=dl(pasado_r+((1/2)*k_2[0]),pasado_phi+((1/2)*k_[1]),ind)\n",
    "            \n",
    "            k_4[0]=dr(pasado_p,+k_3[2])\n",
    "            k_4[1]=dphi(pasado_r+k_3[0],pasado_l+k_3[3])\n",
    "            k_4[2]=dp(pasado_r+k_3[0],pasado_phi+k_3[1],pasado_l+k[3],ind)\n",
    "            k_4[0]=pl(pasado_p+k_3[0]+pasado_phi+k_3[1],i)\n",
    "            \n",
    "            \n",
    "            #Ahora actulizamos el paso\n",
    "            \n",
    "            self.r=pasado_r+(1/6)*(k_1[0]+2*k_2[0]+k_[3]+k_4[0])\n",
    "            self.phi=pasado_phi+(1/6)*(k_1[1]+2*k_2[1]+2*k_3[1]+k_4[1])\n",
    "            self.P=pasado_p+(1/6)*(k_1[2]+2*k_2[2]+2*k_3[2]+k_4[2])\n",
    "            self.L=pasado_l+(1/6)*(k_1[3]+2*k_2[3]+2*k_3[3]+k_4[3])\n",
    "            \n",
    "            \n",
    "            self.setR(ind,self.r)\n",
    "            self.setphi(ind,self.phi)\n",
    "            self.setP(ind,self.P)\n",
    "            self.set(ind,self.L)\n",
    "            \n",
    "            \n",
    "            \n",
    "            \n",
    "            \n",
    "            "
   ]
  },
  {
   "cell_type": "markdown",
   "metadata": {},
   "source": [
    "## Una vez realizado el codigo para la clase escribimos nuestras ecuaciones diferenciales"
   ]
  },
  {
   "cell_type": "code",
   "execution_count": 50,
   "metadata": {},
   "outputs": [],
   "source": [
    "r_nave_luna=lambda r,ϕ,l,t: math.pow(1+math.pow(r,2)-2*r*np.cos(phi-w_lunar*t))\n",
    "\n",
    "df_1=lambda P: P\n",
    "df_2=lambda r,l: l/math.pow(r,2)\n",
    "df_3=lambda r,phi,t: (math.pow(Δ*μ*r/(math.pow(r_nave_luna(r,ϕ,l,t),3)*np.sin(phi-w_lunar*t))))*(-1)\n",
    "df_4=lambda r,phi,l,t: (math.pow(l,2)/math.pow(r,3))-(Δ*(1/(math.pow(r,2))))+(μ/math.pow(r,3))*(r-np.cos(phi-w_lunar*t))\n"
   ]
  },
  {
   "cell_type": "markdown",
   "metadata": {},
   "source": [
    "## Ahora es turno de inicializar los valores iniciales de la nave. Datos como la velocidad de escape fueron buscados en internet mientras otros fueron obtenidos por medio de prueba y error."
   ]
  },
  {
   "cell_type": "code",
   "execution_count": 52,
   "metadata": {},
   "outputs": [
    {
     "ename": "TypeError",
     "evalue": "<lambda>() missing 2 required positional arguments: 'l' and 't'",
     "output_type": "error",
     "traceback": [
      "\u001b[1;31m---------------------------------------------------------------------------\u001b[0m",
      "\u001b[1;31mTypeError\u001b[0m                                 Traceback (most recent call last)",
      "\u001b[1;32m<ipython-input-52-a01f6f474fbf>\u001b[0m in \u001b[0;36m<module>\u001b[1;34m\u001b[0m\n\u001b[0;32m     19\u001b[0m \u001b[1;31m# y ya con esto podemos crear la particula (nave)\u001b[0m\u001b[1;33m\u001b[0m\u001b[1;33m\u001b[0m\u001b[1;33m\u001b[0m\u001b[0m\n\u001b[0;32m     20\u001b[0m \u001b[1;33m\u001b[0m\u001b[0m\n\u001b[1;32m---> 21\u001b[1;33m \u001b[0mParticula_nave\u001b[0m\u001b[1;33m=\u001b[0m\u001b[0mevolucion_apolo_creed\u001b[0m\u001b[1;33m(\u001b[0m\u001b[0mdf_1\u001b[0m\u001b[1;33m,\u001b[0m\u001b[0mdf_2\u001b[0m\u001b[1;33m,\u001b[0m\u001b[0mdf_4\u001b[0m\u001b[1;33m,\u001b[0m\u001b[0mdf_3\u001b[0m\u001b[1;33m,\u001b[0m\u001b[0mr_inicial\u001b[0m\u001b[1;33m,\u001b[0m\u001b[0mphi_inicial\u001b[0m\u001b[1;33m,\u001b[0m\u001b[0mv_inicial\u001b[0m\u001b[1;33m,\u001b[0m\u001b[0mP_inicial\u001b[0m\u001b[1;33m,\u001b[0m\u001b[0mL_inicial\u001b[0m\u001b[1;33m,\u001b[0m\u001b[0mt\u001b[0m\u001b[1;33m)\u001b[0m\u001b[1;33m\u001b[0m\u001b[1;33m\u001b[0m\u001b[0m\n\u001b[0m\u001b[0;32m     22\u001b[0m \u001b[1;33m\u001b[0m\u001b[0m\n\u001b[0;32m     23\u001b[0m \u001b[1;33m\u001b[0m\u001b[0m\n",
      "\u001b[1;32m<ipython-input-52-a01f6f474fbf>\u001b[0m in \u001b[0;36mevolucion_apolo_creed\u001b[1;34m(df_1, df_2, df_4, df_3, r_inicial_, phi_inicial_, v_inicial_, P_inicial_, L_inicial_, t)\u001b[0m\n\u001b[0;32m     13\u001b[0m     \u001b[1;32mfor\u001b[0m \u001b[0mi\u001b[0m \u001b[1;32min\u001b[0m \u001b[0mrange\u001b[0m\u001b[1;33m(\u001b[0m\u001b[0mlen\u001b[0m\u001b[1;33m(\u001b[0m\u001b[0mt\u001b[0m\u001b[1;33m)\u001b[0m\u001b[1;33m)\u001b[0m\u001b[1;33m:\u001b[0m\u001b[1;33m\u001b[0m\u001b[1;33m\u001b[0m\u001b[0m\n\u001b[0;32m     14\u001b[0m \u001b[1;33m\u001b[0m\u001b[0m\n\u001b[1;32m---> 15\u001b[1;33m         \u001b[0mparticula\u001b[0m\u001b[1;33m.\u001b[0m\u001b[0mdigi_evolucion\u001b[0m\u001b[1;33m(\u001b[0m\u001b[0mdf_1\u001b[0m\u001b[1;33m,\u001b[0m\u001b[0mdf_2\u001b[0m\u001b[1;33m,\u001b[0m\u001b[0mdf_4\u001b[0m\u001b[1;33m,\u001b[0m\u001b[0mdf_3\u001b[0m\u001b[1;33m,\u001b[0m\u001b[0mi\u001b[0m\u001b[1;33m)\u001b[0m\u001b[1;33m\u001b[0m\u001b[1;33m\u001b[0m\u001b[0m\n\u001b[0m\u001b[0;32m     16\u001b[0m \u001b[1;33m\u001b[0m\u001b[0m\n\u001b[0;32m     17\u001b[0m     \u001b[1;32mreturn\u001b[0m \u001b[0mparticula\u001b[0m\u001b[1;33m\u001b[0m\u001b[1;33m\u001b[0m\u001b[0m\n",
      "\u001b[1;32m<ipython-input-49-7278732c09bb>\u001b[0m in \u001b[0;36mdigi_evolucion\u001b[1;34m(self, dr, dp, dphi, dl, ind)\u001b[0m\n\u001b[0;32m     67\u001b[0m \u001b[1;33m\u001b[0m\u001b[0m\n\u001b[0;32m     68\u001b[0m             \u001b[0mk_1\u001b[0m\u001b[1;33m[\u001b[0m\u001b[1;36m0\u001b[0m\u001b[1;33m]\u001b[0m\u001b[1;33m=\u001b[0m\u001b[0mdr\u001b[0m\u001b[1;33m(\u001b[0m\u001b[0mpasado_p\u001b[0m\u001b[1;33m)\u001b[0m\u001b[1;33m\u001b[0m\u001b[1;33m\u001b[0m\u001b[0m\n\u001b[1;32m---> 69\u001b[1;33m             \u001b[0mk_1\u001b[0m\u001b[1;33m[\u001b[0m\u001b[1;36m1\u001b[0m\u001b[1;33m]\u001b[0m\u001b[1;33m=\u001b[0m\u001b[0mdphi\u001b[0m\u001b[1;33m(\u001b[0m\u001b[0mpasado_r\u001b[0m\u001b[1;33m,\u001b[0m\u001b[0mpasado_l\u001b[0m\u001b[1;33m)\u001b[0m\u001b[1;33m\u001b[0m\u001b[1;33m\u001b[0m\u001b[0m\n\u001b[0m\u001b[0;32m     70\u001b[0m             \u001b[0mk_1\u001b[0m\u001b[1;33m[\u001b[0m\u001b[1;36m2\u001b[0m\u001b[1;33m]\u001b[0m\u001b[1;33m=\u001b[0m\u001b[0mdp\u001b[0m\u001b[1;33m(\u001b[0m\u001b[0mpasado_r\u001b[0m\u001b[1;33m,\u001b[0m\u001b[0mpasado_phi\u001b[0m\u001b[1;33m,\u001b[0m\u001b[0mpasado_l\u001b[0m\u001b[1;33m,\u001b[0m\u001b[0mind\u001b[0m\u001b[1;33m-\u001b[0m\u001b[1;36m1\u001b[0m\u001b[1;33m)\u001b[0m\u001b[1;33m\u001b[0m\u001b[1;33m\u001b[0m\u001b[0m\n\u001b[0;32m     71\u001b[0m             \u001b[0mk_1\u001b[0m\u001b[1;33m[\u001b[0m\u001b[1;36m3\u001b[0m\u001b[1;33m]\u001b[0m\u001b[1;33m=\u001b[0m\u001b[0mdl\u001b[0m\u001b[1;33m(\u001b[0m\u001b[0mpasado_r\u001b[0m\u001b[1;33m,\u001b[0m\u001b[0mpasado_phi\u001b[0m\u001b[1;33m,\u001b[0m\u001b[0mind\u001b[0m\u001b[1;33m-\u001b[0m\u001b[1;36m1\u001b[0m\u001b[1;33m)\u001b[0m\u001b[1;33m\u001b[0m\u001b[1;33m\u001b[0m\u001b[0m\n",
      "\u001b[1;31mTypeError\u001b[0m: <lambda>() missing 2 required positional arguments: 'l' and 't'"
     ]
    }
   ],
   "source": [
    "r_inicial=R_tierra/d_tierra_luna\n",
    "phi_inicial=0.81\n",
    "v_inicial=11900\n",
    "θ=np.pi/2\n",
    "    \n",
    "P_inicial=(v_inicial/r_inicial)*np.cos(θ-phi_inicial)\n",
    "L_inicial=r_inicial*(v_inicial/r_inicial)*np.sin(θ-phi_inicial)\n",
    "\n",
    "def evolucion_apolo_creed(df_1,df_2,df_4,df_3,r_inicial_,phi_inicial_,v_inicial_,P_inicial_,L_inicial_,t):\n",
    "    \n",
    "    particula=Particle(r_inicial_,phi_inicial_,P_inicial_,L_inicial_,v_inicial_,t)\n",
    "    \n",
    "    for i in range(len(t)):\n",
    "    \n",
    "        particula.digi_evolucion(df_1,df_2,df_4,df_3,i)\n",
    "\n",
    "    return particula\n",
    "\n",
    "# y ya con esto podemos crear la particula (nave)\n",
    "\n",
    "Particula_nave=evolucion_apolo_creed(df_1,df_2,df_4,df_3,r_inicial,phi_inicial,v_inicial,P_inicial,L_inicial,t)    \n",
    "    \n",
    "    "
   ]
  },
  {
   "cell_type": "code",
   "execution_count": null,
   "metadata": {},
   "outputs": [],
   "source": []
  }
 ],
 "metadata": {
  "kernelspec": {
   "display_name": "Python 3",
   "language": "python",
   "name": "python3"
  },
  "language_info": {
   "codemirror_mode": {
    "name": "ipython",
    "version": 3
   },
   "file_extension": ".py",
   "mimetype": "text/x-python",
   "name": "python",
   "nbconvert_exporter": "python",
   "pygments_lexer": "ipython3",
   "version": "3.7.3"
  }
 },
 "nbformat": 4,
 "nbformat_minor": 2
}
