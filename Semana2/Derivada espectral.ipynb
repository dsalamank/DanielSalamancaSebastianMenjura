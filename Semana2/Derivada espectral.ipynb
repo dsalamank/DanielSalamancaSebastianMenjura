{
 "cells": [
  {
   "cell_type": "markdown",
   "metadata": {},
   "source": [
    "## Primero definamos la función\n"
   ]
  },
  {
   "cell_type": "code",
   "execution_count": 80,
   "metadata": {},
   "outputs": [],
   "source": [
    "import numpy as np\n",
    "import matplotlib.pyplot as plt"
   ]
  },
  {
   "cell_type": "code",
   "execution_count": 2,
   "metadata": {},
   "outputs": [],
   "source": [
    "funcion=lambda x:(np.e**(-0.1*x))*np.sin(x)"
   ]
  },
  {
   "cell_type": "code",
   "execution_count": 15,
   "metadata": {},
   "outputs": [],
   "source": [
    "#paso de derivacion\n",
    "def intervalo_derivacion():\n",
    "    \n",
    "    a=-2*np.pi\n",
    "    b=0\n",
    "    tamaño=100\n",
    "    lista_intervalo=[]\n",
    "    lista_intervalo.append(a)\n",
    "    \n",
    "    for i in range(tamaño):\n",
    "        b=4*np.pi/tamaño\n",
    "        \n",
    "        a+=b\n",
    "        lista_intervalo.append(a)\n",
    "    \n",
    "    return lista_intervalo\n",
    "        "
   ]
  },
  {
   "cell_type": "code",
   "execution_count": 22,
   "metadata": {},
   "outputs": [],
   "source": [
    "m=intervalo_derivacion()\n",
    "\n",
    "def valores_funcion():\n",
    "    \n",
    "    y_funcion=[]\n",
    "    for variable in m:\n",
    "        \n",
    "        y_funcion.append(funcion(variable))\n",
    "        \n",
    "    return y_funcion\n",
    "\n",
    "p=valores_funcion()        \n",
    "        \n",
    "        "
   ]
  },
  {
   "cell_type": "markdown",
   "metadata": {},
   "source": [
    "## Ahora hallemos la trasnformada de Fourier"
   ]
  },
  {
   "cell_type": "code",
   "execution_count": 25,
   "metadata": {},
   "outputs": [],
   "source": [
    "Trasnformada=np.fft.fft(p)\n",
    "tamaño=len(Trasnformada)"
   ]
  },
  {
   "cell_type": "markdown",
   "metadata": {},
   "source": [
    "## Y finalmente hallamos la derivada"
   ]
  },
  {
   "cell_type": "code",
   "execution_count": 84,
   "metadata": {},
   "outputs": [
    {
     "name": "stderr",
     "output_type": "stream",
     "text": [
      "C:\\Users\\usuario\\Anaconda3\\lib\\site-packages\\numpy\\core\\numeric.py:538: ComplexWarning: Casting complex values to real discards the imaginary part\n",
      "  return array(a, dtype, copy=False, order=order)\n"
     ]
    },
    {
     "data": {
      "text/plain": [
       "[<matplotlib.lines.Line2D at 0x258b4e4c550>]"
      ]
     },
     "execution_count": 84,
     "metadata": {},
     "output_type": "execute_result"
    },
    {
     "data": {
      "image/png": "[encoded data removed]",
      "text/plain": [
       "<Figure size 432x288 with 1 Axes>"
      ]
     },
     "metadata": {
      "needs_background": "light"
     },
     "output_type": "display_data"
    }
   ],
   "source": [
    "Frecuencias=np.fft.fftfreq(tamaño,1)\n",
    "arr_frec=np.copy(Frecuencias)\n",
    "arr_frec_=complex(0,1)*arr_frec\n",
    "\n",
    "argumento=arr_frec_*Trasnformada\n",
    "\n",
    "Derivada=np.fft.ifft(argumento)\n",
    "plt.plot(Derivada)"
   ]
  },
  {
   "cell_type": "code",
   "execution_count": null,
   "metadata": {},
   "outputs": [],
   "source": []
  }
 ],
 "metadata": {
  "kernelspec": {
   "display_name": "Python 3",
   "language": "python",
   "name": "python3"
  },
  "language_info": {
   "codemirror_mode": {
    "name": "ipython",
    "version": 3
   },
   "file_extension": ".py",
   "mimetype": "text/x-python",
   "name": "python",
   "nbconvert_exporter": "python",
   "pygments_lexer": "ipython3",
   "version": "3.7.3"
  }
 },
 "nbformat": 4,
 "nbformat_minor": 2
}
