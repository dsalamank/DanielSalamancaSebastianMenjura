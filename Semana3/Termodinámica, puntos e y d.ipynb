{
 "cells": [
  {
   "cell_type": "markdown",
   "metadata": {},
   "source": [
    "## Termodinamica"
   ]
  },
  {
   "cell_type": "code",
   "execution_count": 90,
   "metadata": {},
   "outputs": [],
   "source": [
    "import numpy as np\n",
    "import matplotlib.pyplot as plt\n",
    "from sympy import*\n",
    "t=Symbol('t')"
   ]
  },
  {
   "cell_type": "markdown",
   "metadata": {},
   "source": [
    "## Lo primero que haremos sera definir las variables"
   ]
  },
  {
   "cell_type": "code",
   "execution_count": 60,
   "metadata": {},
   "outputs": [],
   "source": [
    "#condiciones del alambre y del sistema\n",
    "Area_=0.01\n",
    "L_longitud=0.30\n",
    "k=389.6\n",
    "moles=1\n",
    "cv=(3/2)*8.31\n",
    "Npoints_=50\n",
    "C_=(k*Area_)/(moles*cv*L_longitud)\n",
    "\n",
    "T_iniciales=[400,200]\n",
    "intervalo_=np.linspace(0,5,Npoints)"
   ]
  },
  {
   "cell_type": "code",
   "execution_count": 39,
   "metadata": {},
   "outputs": [],
   "source": [
    "#Ahora definimos nuestras ecuaciones diferenciales\n",
    "\n",
    "Fo=lambda T1,T2,C:-C*(T1-T2)\n",
    "F1=lambda T1,T2,C:C*(T1-T2)\n"
   ]
  },
  {
   "cell_type": "code",
   "execution_count": 52,
   "metadata": {},
   "outputs": [],
   "source": [
    "def SuperEuler(Fo,F1,T,intervalo,Npoints,C):\n",
    "    \n",
    "    pasos=(intervalo[-1]-intervalo[0])/(len(intervalo)-1)\n",
    "    \n",
    "    \n",
    "    T_1=np.zeros(Npoints)\n",
    "    T_2=np.zeros(Npoints)\n",
    "    \n",
    "    #Anadimos nuestras condiciones inciales a los arrays de temperaturas\n",
    "    \n",
    "    T_1[0]=T[0]\n",
    "    T_2[0]=T[1]\n",
    "    \n",
    "    #definimos de tamaño 2 ya que son dos las ecuaciones diferenciales a solucionar \n",
    "    k1=np.zeros(2)\n",
    "    k2=np.zeros(2)\n",
    "    \n",
    "    \n",
    "    for ken in range(1,len(intervalo_)):\n",
    "        \n",
    "        k1[0]=Fo(T_1[ken-1],T_2[ken-1],C)\n",
    "        k1[1]=F1(T_1[ken-1],T_2[ken-1],C)\n",
    "        \n",
    "        k2[0]=Fo(T_1[ken-1]+pasos*k1[0],T_2[ken-1]+pasos*k1[1],C)\n",
    "        k2[1]=F1(T_1[ken-1]+pasos*k1[0],T_2[ken-1]+pasos*k1[1],C)\n",
    "        \n",
    "        T_1[ken]=T_1[ken-1]+ (1/2)*pasos*(k1[0]+k2[0])\n",
    "        T_2[ken]=T_2[ken-1]+ (1/2)*pasos*(k1[1]+k2[1])\n",
    "        \n",
    "    return T_1,T_2\n",
    "\n",
    "    "
   ]
  },
  {
   "cell_type": "code",
   "execution_count": 67,
   "metadata": {},
   "outputs": [],
   "source": [
    "arrTemp_1,arrTemp_2=SuperEuler(Fo,F1,T_iniciales,intervalo_,Npoints,C_)"
   ]
  },
  {
   "cell_type": "code",
   "execution_count": 83,
   "metadata": {},
   "outputs": [],
   "source": [
    "#Aqui definimos la soluciones exactas del sistema de ecuaciones\n",
    "fun_T2=lambda t ,C:300-100*np.e**(-2*C*t)\n",
    "y_2=fun_T2(pasos,C_)\n",
    "fun_T1=lambda t ,C:100*np.e**(-2*C*t)+300\n",
    "y_1=fun_T1(pasos,C_)"
   ]
  },
  {
   "cell_type": "code",
   "execution_count": 88,
   "metadata": {},
   "outputs": [
    {
     "data": {
      "text/plain": [
       "<matplotlib.legend.Legend at 0x27c1f87beb8>"
      ]
     },
     "execution_count": 88,
     "metadata": {},
     "output_type": "execute_result"
    },
    {
     "data": {
      "image/png": "[encoded data removed]",
      "text/plain": [
       "<Figure size 432x432 with 1 Axes>"
      ]
     },
     "metadata": {
      "needs_background": "light"
     },
     "output_type": "display_data"
    }
   ],
   "source": [
    "fig=plt.figure(figsize=(6,6))\n",
    "ax=fig.add_subplot(111)\n",
    "ax.plot(pasos,arrTemp_1,label=\"T1 con Euler mejorado\")\n",
    "ax.plot(pasos,arrTemp_2,label=\"T2 con Euler mejorado\")\n",
    "ax.plot(pasos,y_1,\"g:\",label=\"T1 resultado exacto\")\n",
    "ax.plot(pasos,y_2,\"g:\",label=\"T2 resultado exacto\")\n",
    "plt.xlabel(\"Time(Seg)\")\n",
    "plt.ylabel(\"Temperature(K)\")\n",
    "plt.legend()\n"
   ]
  },
  {
   "cell_type": "markdown",
   "metadata": {},
   "source": [
    "## Limite termodinamico de ambas variables"
   ]
  },
  {
   "cell_type": "code",
   "execution_count": 95,
   "metadata": {},
   "outputs": [
    {
     "data": {
      "text/latex": [
       "$\\displaystyle 300$"
      ],
      "text/plain": [
       "300"
      ]
     },
     "execution_count": 95,
     "metadata": {},
     "output_type": "execute_result"
    }
   ],
   "source": [
    "limit(300+100*np.e**(-2*C_*t),t,oo)"
   ]
  },
  {
   "cell_type": "code",
   "execution_count": 97,
   "metadata": {},
   "outputs": [
    {
     "data": {
      "text/latex": [
       "$\\displaystyle 300$"
      ],
      "text/plain": [
       "300"
      ]
     },
     "execution_count": 97,
     "metadata": {},
     "output_type": "execute_result"
    }
   ],
   "source": [
    "limit(-100*np.e**(-2*C_*t)+300,t,oo)"
   ]
  },
  {
   "cell_type": "code",
   "execution_count": null,
   "metadata": {},
   "outputs": [],
   "source": []
  }
 ],
 "metadata": {
  "kernelspec": {
   "display_name": "Python 3",
   "language": "python",
   "name": "python3"
  },
  "language_info": {
   "codemirror_mode": {
    "name": "ipython",
    "version": 3
   },
   "file_extension": ".py",
   "mimetype": "text/x-python",
   "name": "python",
   "nbconvert_exporter": "python",
   "pygments_lexer": "ipython3",
   "version": "3.7.3"
  }
 },
 "nbformat": 4,
 "nbformat_minor": 2
}
